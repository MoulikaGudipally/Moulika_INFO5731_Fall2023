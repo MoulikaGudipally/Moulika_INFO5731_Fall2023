{
  "cells": [
    {
      "cell_type": "markdown",
      "metadata": {
        "id": "view-in-github",
        "colab_type": "text"
      },
      "source": [
        "<a href=\"https://colab.research.google.com/github/MoulikaGudipally/Moulika_INFO5731_Fall2023/blob/main/In_class_exercise1.ipynb\" target=\"_parent\"><img src=\"https://colab.research.google.com/assets/colab-badge.svg\" alt=\"Open In Colab\"/></a>"
      ]
    },
    {
      "cell_type": "markdown",
      "metadata": {
        "id": "DymRJbxDBCnf"
      },
      "source": [
        "# **The first In-class-exercise (08/30/2023, 40 points in total)**\n",
        "This exercise is due tomorrow 08/31/203 11:59 PM.\n"
      ]
    },
    {
      "cell_type": "markdown",
      "source": [
        "(1) Write a Python program to calculate the area of a rectangle using user-input length and width."
      ],
      "metadata": {
        "id": "FBKvD6O_TY6e"
      }
    },
    {
      "cell_type": "code",
      "source": [
        "# write your answer here\n",
        "length = float(input(\"Enter the length of the rectangle: \"))\n",
        "width = float(input(\"Enter the width of the rectangle: \"))\n",
        "area = length * width\n",
        "print(\"The area of the rectangle is:\", area)\n"
      ],
      "metadata": {
        "id": "cikVKDXdTbzE",
        "colab": {
          "base_uri": "https://localhost:8080/"
        },
        "outputId": "3a2e5700-2c7f-4f68-a6ff-84ac8d5b8b25"
      },
      "execution_count": 2,
      "outputs": [
        {
          "output_type": "stream",
          "name": "stdout",
          "text": [
            "Enter the length of the rectangle: 10\n",
            "Enter the width of the rectangle: 5\n",
            "The area of the rectangle is: 50.0\n"
          ]
        }
      ]
    },
    {
      "cell_type": "markdown",
      "source": [
        "(2) Create a program that takes two numbers from the user and swaps their values without using a temporary variable."
      ],
      "metadata": {
        "id": "E9RqrlwdTfvl"
      }
    },
    {
      "cell_type": "code",
      "source": [
        "# write your answer here\n",
        "num1 = float(input(\"Enter the first number: \"))\n",
        "num2 = float(input(\"Enter the second number: \"))\n",
        "num1 = num1 + num2\n",
        "num2 = num1 - num2\n",
        "num1 = num1 - num2\n",
        "print(\"After swapping:\")\n",
        "print(\"First number:\", num1)\n",
        "print(\"Second number:\", num2)"
      ],
      "metadata": {
        "id": "4XvRknixTh1g",
        "colab": {
          "base_uri": "https://localhost:8080/"
        },
        "outputId": "13c813a5-f7c2-4d15-cb15-a35ef2c85c7a"
      },
      "execution_count": 3,
      "outputs": [
        {
          "output_type": "stream",
          "name": "stdout",
          "text": [
            "Enter the first number: 1\n",
            "Enter the second number: 2\n",
            "After swapping:\n",
            "First number: 2.0\n",
            "Second number: 1.0\n"
          ]
        }
      ]
    },
    {
      "cell_type": "markdown",
      "metadata": {
        "id": "03jb4GZsBkBS"
      },
      "source": [
        "(3) Write a Python program to calculate the length of a string."
      ]
    },
    {
      "cell_type": "code",
      "execution_count": 4,
      "metadata": {
        "id": "YaGLbSHHB8Ej",
        "colab": {
          "base_uri": "https://localhost:8080/"
        },
        "outputId": "63fc5359-91ed-467c-83ca-1cee6e72ab23"
      },
      "outputs": [
        {
          "output_type": "stream",
          "name": "stdout",
          "text": [
            "Enter a string: string\n",
            "The length of the string is: 6\n"
          ]
        }
      ],
      "source": [
        "# write your answer here\n",
        "input_string = input(\"Enter a string: \")\n",
        "length = len(input_string)\n",
        "print(\"The length of the string is:\", length)"
      ]
    },
    {
      "cell_type": "markdown",
      "metadata": {
        "id": "jJDe71iLB616"
      },
      "source": [
        "(4) Write a Python program to count the number of characters in a string.\n",
        "\n",
        "Sample String : 'google.com‘,\n",
        "\n",
        "Expected Result : {'o': 3, 'g': 2, '.': 1, 'e': 1, 'l': 1, 'm': 1, 'c': 1}"
      ]
    },
    {
      "cell_type": "code",
      "execution_count": 5,
      "metadata": {
        "id": "MtKskTzbCLaU",
        "colab": {
          "base_uri": "https://localhost:8080/"
        },
        "outputId": "a1eb42aa-9de1-4d87-95f7-337c6b2b9f61"
      },
      "outputs": [
        {
          "output_type": "stream",
          "name": "stdout",
          "text": [
            "Enter a string: apple\n",
            "Character count:\n",
            "{'a': 1, 'p': 2, 'l': 1, 'e': 1}\n"
          ]
        }
      ],
      "source": [
        "# write your answer here\n",
        "input_string = input(\"Enter a string: \")\n",
        "char_count = {}\n",
        "for char in input_string:\n",
        "    if char in char_count:\n",
        "        char_count[char] += 1\n",
        "    else:\n",
        "        char_count[char] = 1\n",
        "print(\"Character count:\")\n",
        "print(char_count)"
      ]
    },
    {
      "cell_type": "markdown",
      "metadata": {
        "id": "55W9AMdXCSpV"
      },
      "source": [
        "(5) Write a Python program to sum all the items in a list."
      ]
    },
    {
      "cell_type": "code",
      "execution_count": 7,
      "metadata": {
        "id": "I57NXsauCec2",
        "colab": {
          "base_uri": "https://localhost:8080/"
        },
        "outputId": "7332a06c-e0d6-4c8d-a2c6-b7d4ee6f3fe0"
      },
      "outputs": [
        {
          "output_type": "stream",
          "name": "stdout",
          "text": [
            "Enter a list of numbers separated by spaces: 1 2 3 1 2 3\n",
            "Sum of the list: 12\n"
          ]
        }
      ],
      "source": [
        "# write your answer here\n",
        "input_list = input(\"Enter a list of numbers separated by spaces: \").split()\n",
        "num_list = [int(num) for num in input_list]\n",
        "sum_of_list = sum(num_list)\n",
        "print(\"Sum of the list:\", sum_of_list)"
      ]
    },
    {
      "cell_type": "markdown",
      "metadata": {
        "id": "4ulBZ6yhCi9F"
      },
      "source": [
        "(6) Write a Python program to get a string from a given string where all occurrences of its first char have been changed to '\\$', except the first char itself.\n",
        "\n",
        "Sample String : 'restart‘,\n",
        "\n",
        "Expected Result : 'resta\\$t'"
      ]
    },
    {
      "cell_type": "code",
      "execution_count": 9,
      "metadata": {
        "id": "Fj0XhwbBCw2o",
        "colab": {
          "base_uri": "https://localhost:8080/"
        },
        "outputId": "03319875-93ed-48ad-f048-82510c0f5621"
      },
      "outputs": [
        {
          "output_type": "stream",
          "name": "stdout",
          "text": [
            "Enter a string: restart\n",
            "Modified string: resta$t\n"
          ]
        }
      ],
      "source": [
        "# write your answer here\n",
        "input_string = input(\"Enter a string: \")\n",
        "\n",
        "if len(input_string) < 2:\n",
        "    print(\"String must have at least two characters.\")\n",
        "else:\n",
        "    first_char = input_string[0]\n",
        "    modified_string = first_char + input_string[1:].replace(first_char, '$')\n",
        "\n",
        "    print(\"Modified string:\", modified_string)"
      ]
    },
    {
      "cell_type": "markdown",
      "source": [
        "(7) Create a program that calculates the factorial of a number using a while loop."
      ],
      "metadata": {
        "id": "qVXA3q7ET5JI"
      }
    },
    {
      "cell_type": "code",
      "source": [
        "# write your answer here\n",
        "num = int(input(\"Enter a number: \"))\n",
        "factorial = 1\n",
        "current = 1\n",
        "while current <= num:\n",
        "    factorial *= current\n",
        "    current += 1\n",
        "print(f\"The factorial of {num} is:\", factorial)"
      ],
      "metadata": {
        "id": "Lbt7R6UkT7BA",
        "colab": {
          "base_uri": "https://localhost:8080/"
        },
        "outputId": "d5c08319-4180-4215-f676-66482ffc3f99"
      },
      "execution_count": 13,
      "outputs": [
        {
          "output_type": "stream",
          "name": "stdout",
          "text": [
            "Enter a number: 5\n",
            "The factorial of 5 is: 120\n"
          ]
        }
      ]
    },
    {
      "cell_type": "markdown",
      "source": [
        "(8) Create a program that takes a list of numbers as input and outputs a new list with only the even numbers."
      ],
      "metadata": {
        "id": "6YfbzXMNT--R"
      }
    },
    {
      "cell_type": "code",
      "source": [
        "# write your answer here\n",
        "input_list = input(\"Enter a list of numbers separated by spaces: \").split()\n",
        "num_list = [int(num) for num in input_list]\n",
        "even_list = [num for num in num_list if num % 2 == 0]\n",
        "print(\"List with even numbers:\", even_list)"
      ],
      "metadata": {
        "id": "54q7wMQPUAKu",
        "colab": {
          "base_uri": "https://localhost:8080/"
        },
        "outputId": "3a9c0ec7-9f2e-4a84-ac20-f5d57be68be8"
      },
      "execution_count": 14,
      "outputs": [
        {
          "output_type": "stream",
          "name": "stdout",
          "text": [
            "Enter a list of numbers separated by spaces: 2 4 6 8 \n",
            "List with even numbers: [2, 4, 6, 8]\n"
          ]
        }
      ]
    },
    {
      "cell_type": "markdown",
      "metadata": {
        "id": "_bIP7s1MCzue"
      },
      "source": [
        "(9) Write a program with python which could accept two parameter a and b to calculate and output the result of S, where\n",
        "\n",
        "$\\ S=3.14*(1+a/b)^3$\n",
        "\n"
      ]
    },
    {
      "cell_type": "code",
      "execution_count": 15,
      "metadata": {
        "id": "w79QilHXD3Mg",
        "colab": {
          "base_uri": "https://localhost:8080/"
        },
        "outputId": "4a11e62d-1fe9-4c7d-d7f0-3f2ce879e8f9"
      },
      "outputs": [
        {
          "output_type": "stream",
          "name": "stdout",
          "text": [
            "Enter the value of 'a': 5\n",
            "Enter the value of 'b': 2\n",
            "The value of 'S' is: 134.6275\n"
          ]
        }
      ],
      "source": [
        "# write your answer here\n",
        "a = float(input(\"Enter the value of 'a': \"))\n",
        "b = float(input(\"Enter the value of 'b': \"))\n",
        "S = 3.14 * (1 + a / b) ** 3\n",
        "print(\"The value of 'S' is:\", S)"
      ]
    },
    {
      "cell_type": "markdown",
      "metadata": {
        "id": "xCa2bK9aD4Q3"
      },
      "source": [
        "(10) Write a Python program to concatenate following dictionaries to create a new one.\n",
        "\n",
        "Sample Dictionary : dic1={1:10, 2:20}, dic2={3:30, 4:40}, dic3={5:50,6:60},\n",
        "\n",
        "Expected Result : {1: 10, 2: 20, 3: 30, 4: 40, 5: 50, 6: 60}\n"
      ]
    },
    {
      "cell_type": "code",
      "execution_count": 16,
      "metadata": {
        "id": "_z4aLqAbEET1",
        "colab": {
          "base_uri": "https://localhost:8080/"
        },
        "outputId": "5f29e769-27c2-4fab-de5c-af01c78635fb"
      },
      "outputs": [
        {
          "output_type": "stream",
          "name": "stdout",
          "text": [
            "Concatenated dictionary: {1: 10, 2: 20, 3: 30, 4: 40, 5: 50, 6: 60}\n"
          ]
        }
      ],
      "source": [
        "# write your answer here\n",
        "# Sample dictionaries\n",
        "dic1 = {1: 10, 2: 20}\n",
        "dic2 = {3: 30, 4: 40}\n",
        "dic3 = {5: 50, 6: 60}\n",
        "concatenated_dict = {}\n",
        "\n",
        "# Concatenate dictionaries\n",
        "concatenated_dict.update(dic1)\n",
        "concatenated_dict.update(dic2)\n",
        "concatenated_dict.update(dic3)\n",
        "\n",
        "print(\"Concatenated dictionary:\", concatenated_dict)"
      ]
    },
    {
      "cell_type": "markdown",
      "source": [
        "(11) Write a Python function that accepts a tuple of integers and returns the largest and smallest elements."
      ],
      "metadata": {
        "id": "bkyZ2xSZUOst"
      }
    },
    {
      "cell_type": "code",
      "source": [
        "# write your answer here\n",
        "def find_largest_smallest(numbers):\n",
        "    if not numbers:\n",
        "        return None, None  # Return None for empty tuple\n",
        "\n",
        "    largest = smallest = numbers[0]  # Initialize with the first element\n",
        "\n",
        "    for num in numbers:\n",
        "        if num > largest:\n",
        "            largest = num\n",
        "        elif num < smallest:\n",
        "            smallest = num\n",
        "\n",
        "    return largest, smallest\n",
        "\n",
        "# Example usage\n",
        "input_tuple = (10, 5, 20, 3, 15)\n",
        "largest, smallest = find_largest_smallest(input_tuple)\n",
        "print(\"Largest element:\", largest)\n",
        "print(\"Smallest element:\", smallest)"
      ],
      "metadata": {
        "id": "3FdLRBKOUQEd",
        "colab": {
          "base_uri": "https://localhost:8080/"
        },
        "outputId": "377d56d5-6a05-446a-ce49-2be60b518377"
      },
      "execution_count": 17,
      "outputs": [
        {
          "output_type": "stream",
          "name": "stdout",
          "text": [
            "Largest element: 20\n",
            "Smallest element: 3\n"
          ]
        }
      ]
    },
    {
      "cell_type": "markdown",
      "source": [
        "(12) Write a Python program that counts the frequency of each character in a given string and stores it in a dictionary."
      ],
      "metadata": {
        "id": "O0TVi3gKUTpp"
      }
    },
    {
      "cell_type": "code",
      "source": [
        "# write your answer here\n",
        "def count_characters(input_string):\n",
        "    char_count = {}  # Initialize an empty dictionary\n",
        "\n",
        "    for char in input_string:\n",
        "        if char in char_count:\n",
        "            char_count[char] += 1\n",
        "        else:\n",
        "            char_count[char] = 1\n",
        "\n",
        "    return char_count\n",
        "\n",
        "# Get user input for the string\n",
        "input_string = input(\"Enter a string: \")\n",
        "\n",
        "# Calculate character frequencies using the function\n",
        "character_frequencies = count_characters(input_string)\n",
        "\n",
        "# Display the character frequencies dictionary\n",
        "print(\"Character frequencies:\")\n",
        "for char, count in character_frequencies.items():\n",
        "    print(f\"'{char}': {count}\")"
      ],
      "metadata": {
        "id": "lAtfSfZXUU-h",
        "colab": {
          "base_uri": "https://localhost:8080/"
        },
        "outputId": "71b6a3f7-95c4-4e4c-cb90-eadfd5bf884c"
      },
      "execution_count": 18,
      "outputs": [
        {
          "output_type": "stream",
          "name": "stdout",
          "text": [
            "Enter a string: apple\n",
            "Character frequencies:\n",
            "'a': 1\n",
            "'p': 2\n",
            "'l': 1\n",
            "'e': 1\n"
          ]
        }
      ]
    },
    {
      "cell_type": "markdown",
      "metadata": {
        "id": "0v48Vqa7FrQh"
      },
      "source": [
        "(13) Write a Python program to check whether an element exists within a tuple."
      ]
    },
    {
      "cell_type": "code",
      "execution_count": 19,
      "metadata": {
        "id": "7WEmgq-DF2P1",
        "colab": {
          "base_uri": "https://localhost:8080/"
        },
        "outputId": "ace408cb-839e-494f-f1e1-f66eb5f564d6"
      },
      "outputs": [
        {
          "output_type": "stream",
          "name": "stdout",
          "text": [
            "Enter an element to check: 3\n",
            "3 exists in the tuple.\n"
          ]
        }
      ],
      "source": [
        "# write your answer here\n",
        "def check_element_exists(element, input_tuple):\n",
        "    return element in input_tuple\n",
        "input_tuple = (1, 2, 3, 4, 5)\n",
        "element_to_check = int(input(\"Enter an element to check: \"))\n",
        "\n",
        "if check_element_exists(element_to_check, input_tuple):\n",
        "    print(f\"{element_to_check} exists in the tuple.\")\n",
        "else:\n",
        "    print(f\"{element_to_check} does not exist in the tuple.\")"
      ]
    },
    {
      "cell_type": "markdown",
      "metadata": {
        "id": "vD5PYLMuGga_"
      },
      "source": [
        "(14) Write a Python program to find maximum and the minimum value in a set."
      ]
    },
    {
      "cell_type": "code",
      "execution_count": 20,
      "metadata": {
        "id": "t0D5kdJUGjjw",
        "colab": {
          "base_uri": "https://localhost:8080/"
        },
        "outputId": "d17658f9-aff9-46bc-a276-e2efafe46943"
      },
      "outputs": [
        {
          "output_type": "stream",
          "name": "stdout",
          "text": [
            "Enter a set of numbers separated by spaces: 1 2 3 4 5\n",
            "Maximum value: 5\n",
            "Minimum value: 1\n"
          ]
        }
      ],
      "source": [
        "# write your answer here\n",
        "input_set = set(input(\"Enter a set of numbers separated by spaces: \").split())\n",
        "\n",
        "# Convert the input strings to integers\n",
        "num_set = {int(num) for num in input_set}\n",
        "\n",
        "# Find maximum and minimum values\n",
        "maximum_value = max(num_set)\n",
        "minimum_value = min(num_set)\n",
        "\n",
        "# Display the results\n",
        "print(\"Maximum value:\", maximum_value)\n",
        "print(\"Minimum value:\", minimum_value)"
      ]
    },
    {
      "cell_type": "markdown",
      "metadata": {
        "id": "uHkd-y5VhVWC"
      },
      "source": [
        "(15) Write a Python program to randomly divide the students in this class into six groups for term projects, each group should have at least 4 students but no more than 6 students (including 6). Here is the students list:\n",
        "student_list_fall_2023=['sb1826' ,\n",
        " 'lb0582' ,\n",
        " 'ab1820' ,\n",
        " 'sb1883' ,\n",
        " 'mb1296' ,\n",
        " 'sc1622' ,\n",
        " 'tc0469' ,\n",
        " 'ac1770' ,\n",
        " 'mc1453' ,\n",
        " 'ad1187' ,\n",
        " 'sd0926' ,\n",
        " 'sd1268' ,\n",
        " 'ag1609' ,\n",
        " 'sg1638' ,\n",
        " 'mg1299' ,\n",
        " 'vkk0022' ,\n",
        " 'bk0413' ,\n",
        " 'gk0257' ,\n",
        " 'am2807' ,\n",
        " 'gm0558' ,\n",
        " 'pm0658' ,\n",
        " 'am2346' ,\n",
        " 'rm1090' ,\n",
        " 'sm2364' ,\n",
        " 'sm2747' ,\n",
        " 'sm2343' ,\n",
        " 'vm0597' ,\n",
        " 'htn0086' ,\n",
        " 'sp2075' ,\n",
        " 'gp0306' ,\n",
        " 'lp0502' ,\n",
        " 'sr1508' ,\n",
        " 'vr0331' ,\n",
        " 'yr0180' ,\n",
        " 'as2819' ,\n",
        " 'ss2981' ,\n",
        " 'ns0756' ,\n",
        " 'mt0825' ,\n",
        " 'dt0463' ,\n",
        " 'su0137' ,\n",
        " 'dv0310'\n",
        "]"
      ]
    },
    {
      "cell_type": "code",
      "source": [
        "import random\n",
        "\n",
        "# Student list\n",
        "student_list_fall_2023 = ['sb1826', 'lb0582', 'ab1820', 'sb1883', 'mb1296', 'sc1622', 'tc0469', 'ac1770', 'mc1453',\n",
        "                          'ad1187', 'sd0926', 'sd1268', 'ag1609', 'sg1638', 'mg1299', 'vkk0022', 'bk0413', 'gk0257',\n",
        "                          'am2807', 'gm0558', 'pm0658', 'am2346', 'rm1090', 'sm2364', 'sm2747', 'sm2343', 'vm0597',\n",
        "                          'htn0086', 'sp2075', 'gp0306', 'lp0502', 'sr1508', 'vr0331', 'yr0180', 'as2819', 'ss2981',\n",
        "                          'ns0756', 'mt0825', 'dt0463', 'su0137', 'dv0310']\n",
        "\n",
        "# Shuffle the student list\n",
        "random.shuffle(student_list_fall_2023)\n",
        "\n",
        "# Initialize variables\n",
        "num_groups = 6\n",
        "min_students_per_group = 4\n",
        "max_students_per_group = 6\n",
        "\n",
        "# Divide students into groups\n",
        "groups = []\n",
        "current_group = []\n",
        "for student in student_list_fall_2023:\n",
        "    if len(current_group) < max_students_per_group:\n",
        "        current_group.append(student)\n",
        "    if len(current_group) == max_students_per_group:\n",
        "        groups.append(current_group)\n",
        "        current_group = []\n",
        "\n",
        "# Distribute remaining students to existing groups\n",
        "while len(current_group) < min_students_per_group:\n",
        "    current_group.append(groups.pop()[0])\n",
        "\n",
        "# Add the last group\n",
        "groups.append(current_group)\n",
        "\n",
        "# Display groups\n",
        "for idx, group in enumerate(groups, start=1):\n",
        "    print(f\"Group {idx}: {', '.join(group)}\")\n"
      ],
      "metadata": {
        "colab": {
          "base_uri": "https://localhost:8080/"
        },
        "id": "bVGRpS_XYR33",
        "outputId": "d5d5a946-8d1f-4c02-ae52-8983d2ed3633"
      },
      "execution_count": 34,
      "outputs": [
        {
          "output_type": "stream",
          "name": "stdout",
          "text": [
            "Group 1: sm2747, rm1090, am2346, mg1299, sd0926, lb0582\n",
            "Group 2: lp0502, ac1770, ag1609, sc1622, tc0469, yr0180\n",
            "Group 3: vm0597, sm2343, pm0658, mc1453, am2807, vr0331\n",
            "Group 4: sg1638, su0137, ab1820, dv0310, sb1826, sm2364\n",
            "Group 5: as2819, gk0257, dt0463, ss2981, bk0413, gm0558\n",
            "Group 6: gp0306, ad1187, sr1508, mt0825, htn0086, sp2075\n",
            "Group 7: ns0756, sb1883, sd1268, mb1296, vkk0022\n"
          ]
        }
      ]
    },
    {
      "cell_type": "markdown",
      "metadata": {
        "id": "fmZ9vX20Qs3d"
      },
      "source": [
        "(16) Write a Python program to find the duplicate elements in a given array of integers. Return -1 If there are no such elements."
      ]
    },
    {
      "cell_type": "code",
      "execution_count": 27,
      "metadata": {
        "id": "W8Jw6sWMQs3d",
        "colab": {
          "base_uri": "https://localhost:8080/"
        },
        "outputId": "12a4420f-26e8-42b7-8b1f-8ab0c7a48b2f"
      },
      "outputs": [
        {
          "output_type": "stream",
          "name": "stdout",
          "text": [
            "Enter an array of integers separated by spaces: 1 2 2 2 4\n",
            "Duplicate elements: [2]\n"
          ]
        }
      ],
      "source": [
        "# write your answer here\n",
        "def find_duplicate_elements(arr):\n",
        "    seen = set()\n",
        "    duplicates = set()\n",
        "\n",
        "    for num in arr:\n",
        "        if num in seen:\n",
        "            duplicates.add(num)\n",
        "        else:\n",
        "            seen.add(num)\n",
        "\n",
        "    if not duplicates:\n",
        "        return -1\n",
        "    else:\n",
        "        return list(duplicates)\n",
        "\n",
        "# Get user input for the array of integers\n",
        "input_array = input(\"Enter an array of integers separated by spaces: \").split()\n",
        "arr = [int(num) for num in input_array]\n",
        "\n",
        "# Find duplicate elements using the function\n",
        "result = find_duplicate_elements(arr)\n",
        "\n",
        "# Display the result\n",
        "if result == -1:\n",
        "    print(\"No duplicate elements found.\")\n",
        "else:\n",
        "    print(\"Duplicate elements:\", result)\n"
      ]
    },
    {
      "cell_type": "markdown",
      "metadata": {
        "id": "hvq4APMhQs3d"
      },
      "source": [
        "(17) Write a Python program to select all the Sundays of a specified year."
      ]
    },
    {
      "cell_type": "code",
      "execution_count": 33,
      "metadata": {
        "id": "ZnoxhSglQs3d",
        "colab": {
          "base_uri": "https://localhost:8080/"
        },
        "outputId": "6ad17401-2fb8-4e0f-980c-fce19386a984"
      },
      "outputs": [
        {
          "output_type": "stream",
          "name": "stdout",
          "text": [
            "Enter a year: 2023\n",
            "Sundays in 2023:\n",
            "2023-01-31\n",
            "2023-01-24\n",
            "2023-01-17\n",
            "2023-01-10\n",
            "2023-01-03\n",
            "2023-02-28\n",
            "2023-02-21\n",
            "2023-02-14\n",
            "2023-02-07\n",
            "2023-03-31\n",
            "2023-03-24\n",
            "2023-03-17\n",
            "2023-03-10\n",
            "2023-04-30\n",
            "2023-04-23\n",
            "2023-04-16\n",
            "2023-04-09\n",
            "2023-04-02\n",
            "2023-05-31\n",
            "2023-05-24\n",
            "2023-05-17\n",
            "2023-05-10\n",
            "2023-06-30\n",
            "2023-06-23\n",
            "2023-06-16\n",
            "2023-06-09\n",
            "2023-07-31\n",
            "2023-07-24\n",
            "2023-07-17\n",
            "2023-07-10\n",
            "2023-07-03\n",
            "2023-08-31\n",
            "2023-08-24\n",
            "2023-08-17\n",
            "2023-08-10\n",
            "2023-09-30\n",
            "2023-09-23\n",
            "2023-09-16\n",
            "2023-09-09\n",
            "2023-10-31\n",
            "2023-10-24\n",
            "2023-10-17\n",
            "2023-10-10\n",
            "2023-10-03\n",
            "2023-11-30\n",
            "2023-11-23\n",
            "2023-11-16\n",
            "2023-11-09\n",
            "2023-12-31\n",
            "2023-12-24\n",
            "2023-12-17\n",
            "2023-12-10\n"
          ]
        }
      ],
      "source": [
        "import datetime\n",
        "\n",
        "def sundays_in_year(year):\n",
        "    sundays = []\n",
        "\n",
        "    # Iterate through all months of the year\n",
        "    for month in range(1, 13):\n",
        "        # Get the last day of the month\n",
        "        last_day = datetime.date(year, month % 12 + 1, 1) - datetime.timedelta(days=1)\n",
        "\n",
        "        # Calculate the day of the week (Monday is 0 and Sunday is 6) for the last day of the month\n",
        "        day_of_week = last_day.weekday()\n",
        "\n",
        "        # Calculate the number of days to reach the last Sunday of the month\n",
        "        days_to_sunday = (day_of_week - 6) % 7\n",
        "\n",
        "        # Calculate the dates of all Sundays in the month\n",
        "        for day in range(last_day.day, days_to_sunday, -7):\n",
        "            sundays.append(datetime.date(year, month, day))\n",
        "\n",
        "    return sundays\n",
        "\n",
        "# Get user input for the year\n",
        "year = int(input(\"Enter a year: \"))\n",
        "\n",
        "# Get the list of Sundays in the year using the function\n",
        "sundays = sundays_in_year(year)\n",
        "\n",
        "# Display the list of Sundays\n",
        "print(f\"Sundays in {year}:\")\n",
        "for sunday in sundays:\n",
        "    print(sunday)\n"
      ]
    },
    {
      "cell_type": "markdown",
      "source": [
        "(18) Build a program that calculates the factorial of a given positive integer. The factorial of a non-negative integer n is the product of all positive integers less than or equal to n."
      ],
      "metadata": {
        "id": "55FWoSJPVVM6"
      }
    },
    {
      "cell_type": "code",
      "source": [
        "# write your answer here\n",
        "def calculate_factorial(n):\n",
        "    if n == 0 or n == 1:\n",
        "        return 1\n",
        "    else:\n",
        "        factorial = 1\n",
        "        for i in range(2, n + 1):\n",
        "            factorial *= i\n",
        "        return factorial\n",
        "\n",
        "# Get user input for a positive integer\n",
        "n = int(input(\"Enter a positive integer: \"))\n",
        "\n",
        "if n < 0:\n",
        "    print(\"Factorial is undefined for negative integers.\")\n",
        "else:\n",
        "    factorial_result = calculate_factorial(n)\n",
        "    print(f\"The factorial of {n} is:\", factorial_result)\n"
      ],
      "metadata": {
        "id": "hwtr1wZmVX5A",
        "colab": {
          "base_uri": "https://localhost:8080/"
        },
        "outputId": "5045beeb-cb9c-42a6-e93b-84adb5f71fd9"
      },
      "execution_count": 35,
      "outputs": [
        {
          "output_type": "stream",
          "name": "stdout",
          "text": [
            "Enter a positive integer: 5\n",
            "The factorial of 5 is: 120\n"
          ]
        }
      ]
    },
    {
      "cell_type": "markdown",
      "source": [
        "(19) Write a program that takes a positive integer n as input and prints the count of even numbers from 1 to n. Use a loop to iterate through the numbers and utilize the break statement to optimize the loop."
      ],
      "metadata": {
        "id": "Q9ecagcaVazW"
      }
    },
    {
      "cell_type": "code",
      "source": [
        "# write your answer here\n",
        "def count_even_numbers(n):\n",
        "    count = 0\n",
        "    for i in range(1, n + 1):\n",
        "        if i % 2 == 0:\n",
        "            count += 1\n",
        "        elif i > n:\n",
        "            break\n",
        "    return count\n",
        "\n",
        "# Get user input for a positive integer\n",
        "n = int(input(\"Enter a positive integer: \"))\n",
        "\n",
        "if n < 1:\n",
        "    print(\"Please enter a positive integer.\")\n",
        "else:\n",
        "    even_count = count_even_numbers(n)\n",
        "    print(f\"The count of even numbers from 1 to {n} is:\", even_count)\n"
      ],
      "metadata": {
        "id": "gycgckoAVZjR",
        "colab": {
          "base_uri": "https://localhost:8080/"
        },
        "outputId": "4b8727c2-7e90-4af3-ee16-85a20b22e47f"
      },
      "execution_count": 36,
      "outputs": [
        {
          "output_type": "stream",
          "name": "stdout",
          "text": [
            "Enter a positive integer: 10\n",
            "The count of even numbers from 1 to 10 is: 5\n"
          ]
        }
      ]
    },
    {
      "cell_type": "markdown",
      "source": [
        "(20) Write a Python function called count_vowels that takes a string as input and returns the count of vowels (both lowercase and uppercase) present in the string. Consider the vowels to be 'a', 'e', 'i', 'o', and 'u'. Ignore spaces and other non-alphabetic characters."
      ],
      "metadata": {
        "id": "cboAr5pEWUf5"
      }
    },
    {
      "cell_type": "code",
      "source": [
        "# write your answer here\n",
        "def count_vowels(input_string):\n",
        "    vowels = 'aeiouAEIOU'\n",
        "    vowel_count = 0\n",
        "\n",
        "    for char in input_string:\n",
        "        if char in vowels:\n",
        "            vowel_count += 1\n",
        "\n",
        "    return vowel_count\n",
        "\n",
        "# Get user input for a string\n",
        "input_string = input(\"Enter a string: \")\n",
        "\n",
        "vowel_count = count_vowels(input_string)\n",
        "print(f\"The count of vowels in the string is: {vowel_count}\")\n"
      ],
      "metadata": {
        "id": "phs9gciMWWAW",
        "colab": {
          "base_uri": "https://localhost:8080/"
        },
        "outputId": "4f543dae-5828-4411-a779-8af310287ab0"
      },
      "execution_count": 37,
      "outputs": [
        {
          "output_type": "stream",
          "name": "stdout",
          "text": [
            "Enter a string: flower\n",
            "The count of vowels in the string is: 2\n"
          ]
        }
      ]
    }
  ],
  "metadata": {
    "colab": {
      "provenance": [],
      "include_colab_link": true
    },
    "kernelspec": {
      "display_name": "Python 3 (ipykernel)",
      "language": "python",
      "name": "python3"
    },
    "language_info": {
      "codemirror_mode": {
        "name": "ipython",
        "version": 3
      },
      "file_extension": ".py",
      "mimetype": "text/x-python",
      "name": "python",
      "nbconvert_exporter": "python",
      "pygments_lexer": "ipython3",
      "version": "3.9.12"
    }
  },
  "nbformat": 4,
  "nbformat_minor": 0
}